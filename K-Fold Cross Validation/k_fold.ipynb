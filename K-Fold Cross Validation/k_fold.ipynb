{
 "cells": [
  {
   "cell_type": "code",
   "execution_count": 6,
   "metadata": {},
   "outputs": [],
   "source": [
    "import numpy as np\n",
    "import pandas as pd\n",
    "\n",
    "from sklearn.datasets import make_regression\n",
    "from sklearn.linear_model import LinearRegression\n",
    "from sklearn.model_selection import KFold, train_test_split, cross_val_predict, cross_val_score\n",
    "from sklearn import metrics\n",
    "import matplotlib.pyplot as plt\n",
    "import seaborn as sns"
   ]
  },
  {
   "attachments": {},
   "cell_type": "markdown",
   "metadata": {},
   "source": [
    "Hatayi ozellikle arttiriyoruz ki normal bir data gibi olsun, bias ve noise ile oynabiliriz."
   ]
  },
  {
   "cell_type": "code",
   "execution_count": 7,
   "metadata": {},
   "outputs": [
    {
     "data": {
      "text/html": [
       "<div>\n",
       "<style scoped>\n",
       "    .dataframe tbody tr th:only-of-type {\n",
       "        vertical-align: middle;\n",
       "    }\n",
       "\n",
       "    .dataframe tbody tr th {\n",
       "        vertical-align: top;\n",
       "    }\n",
       "\n",
       "    .dataframe thead th {\n",
       "        text-align: right;\n",
       "    }\n",
       "</style>\n",
       "<table border=\"1\" class=\"dataframe\">\n",
       "  <thead>\n",
       "    <tr style=\"text-align: right;\">\n",
       "      <th></th>\n",
       "      <th>x</th>\n",
       "      <th>y</th>\n",
       "    </tr>\n",
       "  </thead>\n",
       "  <tbody>\n",
       "    <tr>\n",
       "      <th>0</th>\n",
       "      <td>1.357210</td>\n",
       "      <td>92.896928</td>\n",
       "    </tr>\n",
       "    <tr>\n",
       "      <th>1</th>\n",
       "      <td>-0.762352</td>\n",
       "      <td>-56.819026</td>\n",
       "    </tr>\n",
       "    <tr>\n",
       "      <th>2</th>\n",
       "      <td>0.626691</td>\n",
       "      <td>36.892966</td>\n",
       "    </tr>\n",
       "    <tr>\n",
       "      <th>3</th>\n",
       "      <td>-0.638894</td>\n",
       "      <td>-50.398049</td>\n",
       "    </tr>\n",
       "    <tr>\n",
       "      <th>4</th>\n",
       "      <td>0.135150</td>\n",
       "      <td>33.917583</td>\n",
       "    </tr>\n",
       "  </tbody>\n",
       "</table>\n",
       "</div>"
      ],
      "text/plain": [
       "          x          y\n",
       "0  1.357210  92.896928\n",
       "1 -0.762352 -56.819026\n",
       "2  0.626691  36.892966\n",
       "3 -0.638894 -50.398049\n",
       "4  0.135150  33.917583"
      ]
     },
     "execution_count": 7,
     "metadata": {},
     "output_type": "execute_result"
    }
   ],
   "source": [
    "x, y = make_regression(n_samples=678,\n",
    "                       n_features=1,\n",
    "                       n_targets=1,\n",
    "                       bias=0.7,\n",
    "                       noise=11,\n",
    "                       shuffle=False)\n",
    "\n",
    "df = pd.DataFrame({\"x\":x[:,0], \"y\":y},index=None)\n",
    "df.head()"
   ]
  },
  {
   "cell_type": "code",
   "execution_count": 8,
   "metadata": {},
   "outputs": [
    {
     "data": {
      "image/png": "[encoded data removed]",
      "text/plain": [
       "<Figure size 432x288 with 1 Axes>"
      ]
     },
     "metadata": {
      "needs_background": "light"
     },
     "output_type": "display_data"
    }
   ],
   "source": [
    "x_train, x_test, y_train, y_test = train_test_split(x, y\n",
    "                                          ,test_size=0.2\n",
    "                                          ,shuffle = False\n",
    "                                          ,random_state = 0)\n",
    "\n",
    "plt.scatter(x_train, y_train, color='green', label='train')\n",
    "plt.scatter(x_test, y_test, color='red', label='test')\n",
    "plt.xlabel('input-x')\n",
    "plt.ylabel('target-y')\n",
    "plt.legend()\n",
    "plt.show()"
   ]
  },
  {
   "cell_type": "code",
   "execution_count": 9,
   "metadata": {},
   "outputs": [
    {
     "name": "stdout",
     "output_type": "stream",
     "text": [
      "Train R2 Score: 0.9737724083266769 MSE: 126.81582340987941\n",
      "Test R2 Score: 0.9805126944741872 MSE: 116.187728782671\n"
     ]
    }
   ],
   "source": [
    "def ScoreResults(model, x_train, x_test, y_train, y_test):\n",
    "\n",
    "    y_train_predict = model.predict(x_train)\n",
    "    y_test_predict = model.predict(x_test)\n",
    "\n",
    "    r2_train = metrics.r2_score(y_train, y_train_predict)\n",
    "    r2_test = metrics.r2_score(y_test, y_test_predict)\n",
    "\n",
    "    mse_train = metrics.mean_squared_error(y_train, y_train_predict)\n",
    "    mse_test = metrics.mean_squared_error(y_test, y_test_predict)\n",
    "\n",
    "    return [r2_train, r2_test, mse_train, mse_test]\n",
    "\n",
    "lineer_regression = LinearRegression()\n",
    "lineer_regression.fit(x_train, y_train)\n",
    "\n",
    "result_lineer_regression = ScoreResults(model = lineer_regression, x_train = x_train, x_test = x_test, y_train = y_train, y_test = y_test)\n",
    "\n",
    "print(f\"Train R2 Score: {result_lineer_regression[0]} MSE: {result_lineer_regression[2]}\")\n",
    "print(f\"Test R2 Score: {result_lineer_regression[1]} MSE: {result_lineer_regression[3]}\")"
   ]
  },
  {
   "attachments": {},
   "cell_type": "markdown",
   "metadata": {},
   "source": [
    "Validation kullanmdan onceki degerler yukaridaki gibidir. Simdi cross validation K-Fold yontemi kullanarak farkli iterasyonlarda calistiralim."
   ]
  },
  {
   "cell_type": "code",
   "execution_count": 14,
   "metadata": {},
   "outputs": [
    {
     "name": "stdout",
     "output_type": "stream",
     "text": [
      "1\n",
      "Train R2 Score: 0.9771387479167513 MSE: 122.67355612803733\n",
      "Test R2 Score: 0.9654015405934767 MSE: 132.6281125993875\n",
      "2\n",
      "Train R2 Score: 0.97604579868588 MSE: 120.63238067004119\n",
      "Test R2 Score: 0.9723395606590448 MSE: 143.02221040930786\n",
      "3\n",
      "Train R2 Score: 0.9755330142930198 MSE: 124.99736794786159\n",
      "Test R2 Score: 0.9745538500530821 MSE: 124.36411329792297\n",
      "4\n",
      "Train R2 Score: 0.9742981454211391 MSE: 127.23218621341893\n",
      "Test R2 Score: 0.9791485895639694 MSE: 114.29241509852027\n",
      "5\n",
      "Train R2 Score: 0.9738908244916231 MSE: 126.84316869143672\n",
      "Test R2 Score: 0.9802881056911199 MSE: 116.02113666108357\n"
     ]
    }
   ],
   "source": [
    "scores=[]\n",
    "lineer_regression_cv = LinearRegression()\n",
    "k = 5\n",
    "iter = 1\n",
    "\n",
    "cv = KFold(n_splits=k,\n",
    "           random_state=None,\n",
    "           shuffle=False)\n",
    "\n",
    "for train_index, test_index in cv.split(x):\n",
    "    x_train, x_test, y_train, y_test = x[train_index], x[test_index], y[train_index], y[test_index]\n",
    "    lineer_regression_cv.fit(x_train, y_train)\n",
    "    result = ScoreResults(model = lineer_regression_cv\n",
    "                          ,x_train = x_train\n",
    "                          ,x_test = x_test\n",
    "                          ,y_train = y_train\n",
    "                          ,y_test = y_test)\n",
    "    print(iter)\n",
    "    print(f\"Train R2 Score: {result[0]} MSE: {result[2]}\")\n",
    "    print(f\"Test R2 Score: {result[1]} MSE: {result[3]}\")\n",
    "    scores.append(lineer_regression_cv.score(x_test, y_test))\n",
    "    iter += 1\n"
   ]
  }
 ],
 "metadata": {
  "kernelspec": {
   "display_name": "Python 3",
   "language": "python",
   "name": "python3"
  },
  "language_info": {
   "codemirror_mode": {
    "name": "ipython",
    "version": 3
   },
   "file_extension": ".py",
   "mimetype": "text/x-python",
   "name": "python",
   "nbconvert_exporter": "python",
   "pygments_lexer": "ipython3",
   "version": "3.9.6"
  },
  "orig_nbformat": 4
 },
 "nbformat": 4,
 "nbformat_minor": 2
}
